{
 "cells": [
  {
   "cell_type": "code",
   "execution_count": 1,
   "id": "152b14c0-aa85-4247-893e-9a3fe4af8dc4",
   "metadata": {},
   "outputs": [],
   "source": [
    "import numpy as np\n"
   ]
  },
  {
   "cell_type": "code",
   "execution_count": 2,
   "id": "8672a523-7a95-43d7-aba7-d3d2daddf77b",
   "metadata": {},
   "outputs": [],
   "source": [
    " array = np.random.randint(0, 50, size=(10, 3))"
   ]
  },
  {
   "cell_type": "code",
   "execution_count": 3,
   "id": "44294071-98a2-42db-a6a6-29d23cc7ecdf",
   "metadata": {},
   "outputs": [
    {
     "name": "stdout",
     "output_type": "stream",
     "text": [
      "[[31  4 13]\n",
      " [46 47 40]\n",
      " [10 11 49]\n",
      " [14 37 19]\n",
      " [27 35 41]\n",
      " [20 14 36]\n",
      " [32 16 17]\n",
      " [37  0 11]\n",
      " [ 2  0 49]\n",
      " [ 6 20 13]]\n"
     ]
    }
   ],
   "source": [
    "print(array)"
   ]
  }
 ],
 "metadata": {
  "kernelspec": {
   "display_name": "Python 3 (ipykernel)",
   "language": "python",
   "name": "python3"
  },
  "language_info": {
   "codemirror_mode": {
    "name": "ipython",
    "version": 3
   },
   "file_extension": ".py",
   "mimetype": "text/x-python",
   "name": "python",
   "nbconvert_exporter": "python",
   "pygments_lexer": "ipython3",
   "version": "3.9.18"
  }
 },
 "nbformat": 4,
 "nbformat_minor": 5
}
